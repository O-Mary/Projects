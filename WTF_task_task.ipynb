{
 "cells": [
  {
   "cell_type": "markdown",
   "id": "544a7519",
   "metadata": {},
   "source": [
    "### 1. Write a Python function to find the Max of three numbers"
   ]
  },
  {
   "cell_type": "code",
   "execution_count": 1,
   "id": "e9b7d46c",
   "metadata": {
    "scrolled": true
   },
   "outputs": [
    {
     "name": "stdout",
     "output_type": "stream",
     "text": [
      "Enter 1st number1\n",
      "Enter 2nd number2\n",
      "Enter 3rd number2\n",
      "The maximum mumber is: 2\n"
     ]
    }
   ],
   "source": [
    "def maximum(x,y,z):\n",
    "    list = [x,y,z]\n",
    "    return max(list)\n",
    "x =int(input('Enter 1st number'))\n",
    "y =int(input('Enter 2nd number'))\n",
    "z =int(input('Enter 3rd number'))\n",
    "print('The maximum mumber is:', maximum(x,y,z))"
   ]
  },
  {
   "cell_type": "markdown",
   "id": "0ad26ded",
   "metadata": {},
   "source": [
    "### 2. Write a Python function to sum all the numbers in a list"
   ]
  },
  {
   "cell_type": "code",
   "execution_count": 2,
   "id": "f1aad197",
   "metadata": {},
   "outputs": [
    {
     "name": "stdout",
     "output_type": "stream",
     "text": [
      "The sum of mumber is: 21\n"
     ]
    }
   ],
   "source": [
    "def SumOfNum(*int):\n",
    "    list = [1,2,3,4,5,6]\n",
    "    return sum(list)\n",
    "print('The sum of mumber is:',SumOfNum(int()))\n",
    "#SumOfNum([1,2,3,4,5,6])"
   ]
  },
  {
   "cell_type": "markdown",
   "id": "ce44c595",
   "metadata": {},
   "source": [
    "### 3. Write a Python program to reverse a string"
   ]
  },
  {
   "cell_type": "code",
   "execution_count": 3,
   "id": "c2549f90",
   "metadata": {},
   "outputs": [
    {
     "name": "stdout",
     "output_type": "stream",
     "text": [
      "The original string is:  Tech is life\n",
      "The reverse string is efil si hceT\n"
     ]
    }
   ],
   "source": [
    "def reverse_string(str):  \n",
    "# Declaring empty string to store the reversed string      \n",
    "    str1 = \"\"   \n",
    "    for i in str:  \n",
    "        str1 = i + str1  \n",
    "# It will return the reverse string to the caller function  \n",
    "    return str1    \n",
    "   # Given String   \n",
    "str = \"Tech is life\"          \n",
    "print(\"The original string is: \",str)  \n",
    "# Function call \n",
    "print(\"The reverse string is\",reverse_string(str))  "
   ]
  },
  {
   "cell_type": "markdown",
   "id": "cef03eac",
   "metadata": {},
   "source": [
    "### 4.\tWrite a Python function to check whether a number falls in a given range"
   ]
  },
  {
   "cell_type": "code",
   "execution_count": 1,
   "id": "a08e20a9",
   "metadata": {},
   "outputs": [
    {
     "data": {
      "text/plain": [
       "True"
      ]
     },
     "execution_count": 1,
     "metadata": {},
     "output_type": "execute_result"
    }
   ],
   "source": [
    "def rangeOfNum(int):\n",
    "    lists = [1,2,3,4,5,6,7]\n",
    "    for i in lists:\n",
    "        if 5 in lists:\n",
    "            return True\n",
    "        else:\n",
    "            return False\n",
    "rangeOfNum(5)"
   ]
  },
  {
   "cell_type": "markdown",
   "id": "a99456c0",
   "metadata": {},
   "source": [
    "### 5. Write a Python function that takes a list and returns a new list with unique elements of the first list"
   ]
  },
  {
   "cell_type": "code",
   "execution_count": 2,
   "id": "6d7c56dc",
   "metadata": {},
   "outputs": [
    {
     "name": "stdout",
     "output_type": "stream",
     "text": [
      "[2, 3, 4, 5, 6, 1]\n"
     ]
    }
   ],
   "source": [
    "def unique_elements(u):\n",
    "    x = [2, 3, 4, 5, 6]\n",
    "    for a in u:\n",
    "        if a not in x:\n",
    "            x.append(a)\n",
    "            return x\n",
    "elements = (1, 2, 2, 3, 3, 4, 4, 5, 5, 6, 6, 7, 8)\n",
    "print(unique_elements(elements))"
   ]
  },
  {
   "cell_type": "markdown",
   "id": "b01f97e6",
   "metadata": {},
   "source": [
    "### 6. Write a Python program to print the even numbers from a given list."
   ]
  },
  {
   "cell_type": "code",
   "execution_count": 3,
   "id": "cd678516",
   "metadata": {},
   "outputs": [
    {
     "name": "stdout",
     "output_type": "stream",
     "text": [
      "[2, 4, 6, 8]\n"
     ]
    }
   ],
   "source": [
    "def even_numbers(e):\n",
    "  num = []\n",
    "  for x in e:\n",
    "    if x % 2 == 0:\n",
    "      if x not in num:\n",
    "        num.append(x)\n",
    "  return num\n",
    "elements = (1, 2, 2, 3, 3, 4, 4, 5, 5, 6, 6, 7, 8)\n",
    "print(even_numbers(elements))"
   ]
  },
  {
   "cell_type": "markdown",
   "id": "8ce3b6c3",
   "metadata": {},
   "source": [
    "### 7. Write a Python function that checks whether a passed string is a palindrome or not."
   ]
  },
  {
   "cell_type": "code",
   "execution_count": 4,
   "id": "0c2d6e6a",
   "metadata": {},
   "outputs": [
    {
     "name": "stdout",
     "output_type": "stream",
     "text": [
      "Yes\n"
     ]
    }
   ],
   "source": [
    "def palindrome(p):\n",
    "  return p == p[::-1]\n",
    "p = \"malayalam\"\n",
    "t = palindrome(p)\n",
    "if t:\n",
    "  print(\"Yes\")\n",
    "else:\n",
    "  print(\"No\")"
   ]
  },
  {
   "cell_type": "markdown",
   "id": "6880f760",
   "metadata": {},
   "source": [
    "### 8. Write a Python function to create and print a list where the values are squares of numbers between 1 and 30 (both included).\n",
    "\n"
   ]
  },
  {
   "cell_type": "code",
   "execution_count": 5,
   "id": "39b72e09",
   "metadata": {},
   "outputs": [
    {
     "name": "stdout",
     "output_type": "stream",
     "text": [
      "[1, 4, 9, 16, 25, 36, 49, 64, 81, 100, 121, 144, 169, 196, 225, 256, 289, 324, 361, 400, 441, 484, 529, 576, 625, 676, 729, 784, 841, 900]\n"
     ]
    }
   ],
   "source": [
    "def square(*n):\n",
    "  x = []\n",
    "  for n in range(1, 31):\n",
    "    x.append(n**2)\n",
    "  print(x)\n",
    "square(1, 31)"
   ]
  },
  {
   "cell_type": "code",
   "execution_count": null,
   "id": "e9b2c500",
   "metadata": {},
   "outputs": [],
   "source": []
  },
  {
   "cell_type": "code",
   "execution_count": null,
   "id": "05e8c5c6",
   "metadata": {},
   "outputs": [],
   "source": []
  }
 ],
 "metadata": {
  "kernelspec": {
   "display_name": "Python 3 (ipykernel)",
   "language": "python",
   "name": "python3"
  },
  "language_info": {
   "codemirror_mode": {
    "name": "ipython",
    "version": 3
   },
   "file_extension": ".py",
   "mimetype": "text/x-python",
   "name": "python",
   "nbconvert_exporter": "python",
   "pygments_lexer": "ipython3",
   "version": "3.9.12"
  }
 },
 "nbformat": 4,
 "nbformat_minor": 5
}
